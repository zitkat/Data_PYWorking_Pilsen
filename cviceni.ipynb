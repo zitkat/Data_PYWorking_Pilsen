{
 "cells": [
  {
   "cell_type": "markdown",
   "metadata": {},
   "source": [
    "# Cvičení\n",
    "\n",
    "## 1. Filtrace dat\n",
    "\n",
    "Pokus se v notebooku odpovědět na následující otázky:\n",
    "\n",
    "1. Který dětský pokémon je nejtěžší?\n",
    "2. Kolik dospělých pokémonů je lehčích než nejtěžší dítě?\n",
    "\n",
    "## 2. Grafy\n",
    "\n",
    "1. Vykresli graf počtu pokémonů v jednotlivých generacích.\n",
    "2. Najdeš nějakou zajímavou hodnotu, kterou by stálo za to zobrazit jako graf?\n",
    "\n",
    "## 3. Skupiny pokémonů\n",
    "\n",
    "1. Jaká je průměrná váha pokémonů dle jednotlivých tvarů?\n",
    "2. Existují nějaké významně časté kombinace barev a tvarů?\n",
    "\n",
    "## Závěrečné cvičení\n",
    "\n",
    "### Výběr dat\n",
    "\n",
    "Výběr dat pro závěrečné cvičení je zcela volný. Pro začátek je totiž ideální\n",
    "zvolit si data, kterým datový analytik rozumí a budou mu dávat smysl.\n",
    "\n",
    "* Baví-li tě mobliní technologie, [stáhni si data o aplikacích na Google play](https://www.kaggle.com/lava18/google-play-store-apps)\n",
    "* Pro zájemce o zdravé stravování [máme k dispozici data o jídle](https://www.kaggle.com/openfoodfacts/world-food-facts)\n",
    "* Nadšence do kryptoměn bude zajímat [vývoj Bitcoinu](https://www.kaggle.com/mczielinski/bitcoin-historical-data)\n",
    "* Filmové fanoušky pak zase [databáze filmů](https://www.kaggle.com/tmdb/tmdb-movie-metadata#tmdb_5000_movies.csv)\n",
    "* Milovníky Hry o trůny by mohly zaujmout [detailní informace o bitvách](https://www.kaggle.com/mylesoneill/game-of-thrones#battles.csv)\n",
    "* A co zločiny spáchané se zbraní? I o nich [máme data](https://www.kaggle.com/jameslko/gun-violence-data)\n",
    "* Sňatky, rozvody, stěhování a další [informace pro vaše město má ČSÚ](https://www.czso.cz/csu/czso/databaze-demografickych-udaju-za-obce-cr)\n",
    "* … nebo si vyber jakákoli jiná data, která mohou odpovědět na tvé otázky\n",
    "\n",
    "### Zadání cvičení\n",
    "\n",
    "Proveď explorativní analýzu a zkus v datech najít nějakou zajímavost, která není\n",
    "na první pohled vidět.\n",
    "\n",
    "Například:\n",
    "\n",
    "> Od roku 1991 se ve vetšině měst povedlo snižit počet potratů na ¼ až ⅕, i když\n",
    "počet narozených dětí se od roku 1995 výrazně nezměnil.\n",
    "\n",
    "Tohle je zajímavé zjištění opřené o skutečná data a ukazuje, že všechna\n",
    "ta otravná sexuální výchova nakonec k něčemu je.\n",
    "\n",
    "> Drtivá většina výskytů rakoviny prostaty postihuje zejména muže.\n",
    "\n",
    "Tohle může být také zajímavé, ale ve finále to spíše odpovídá logice než\n",
    "interpretaci dat.\n"
   ]
  }
 ],
 "metadata": {
  "kernelspec": {
   "display_name": "Python 3",
   "language": "python",
   "name": "python3"
  },
  "language_info": {
   "codemirror_mode": {
    "name": "ipython",
    "version": 3
   },
   "file_extension": ".py",
   "mimetype": "text/x-python",
   "name": "python",
   "nbconvert_exporter": "python",
   "pygments_lexer": "ipython3",
   "version": "3.8.5"
  }
 },
 "nbformat": 4,
 "nbformat_minor": 4
}
